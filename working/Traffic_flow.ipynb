{
 "cells": [
  {
   "cell_type": "markdown",
   "metadata": {},
   "source": [
    "Laurie Stevens & Guillaume Palumbo <br>\n",
    "Année scolaire 2016-2017 <br>\n",
    "Coding assignment: Traffic Flow <br>"
   ]
  },
  {
   "cell_type": "markdown",
   "metadata": {},
   "source": [
    "Ce code a pour but de résoudre une équation différentielle, qui se trouve être une équation de flux, décrivant la progression de la vitesse sur un tronçon de route dans le temps et l'espace (par espace, nous entendons ici tous les points du tronçon) selon les variations de la \"densité\" de voitures présentes sur le tronçon en question. <br>\n",
    "Le but final du code est donc de sortir les différentes vitesses pour chaque moment et à chaque point de l'espace pour ces temps. <br>\n",
    "Pour ce faire, il nous faudra d'abord trouver les valeurs de la densité en chaque point, vu que la vitesse se calcule directement à partir de la densité. <br>\n",
    "Nous calculerons les différentes valeurs de la densité en discrétisant l'équation différentielle qui nous est donnée, avec une différence \"forward\" dans le temps et \"backward\" dans l'espace. <br>"
   ]
  },
  {
   "cell_type": "markdown",
   "metadata": {},
   "source": [
    "Pour commencer, retrons simplement les valeurs initiales requises pour la résolution de ce problème: la vitesse maximale sur le tronçon de route, la longueur du tronçon, la densité maximale de voiture, le nombre d'intervalles dans l'espace (et donc le nombre de points où nous pourrons mesurer la densité, et ainsi la vitesse), le pas utilisé pour le temps et enfin la densité initiale (en x0 pour tous les temps t, et en t0 pour tous les x). <br>\n",
    "NB: Les valeurs que nous avons laissées pour la vitesse maximale et pour les valeurs initiales de la densité sont celles de la partie B du problème donné sur le site du cours. <br>"
   ]
  },
  {
   "cell_type": "code",
   "execution_count": 1,
   "metadata": {
    "collapsed": true
   },
   "outputs": [],
   "source": [
    "import numpy as np\n",
    "\n",
    "MAX_VEL = 37.78 #Maximum velocity in m/s\n",
    "LENGTH = 11000.0 #Length in m\n",
    "MAX_DEN = 250.0 #Rho max\n",
    "INTERVAL = 51 #nx\n",
    "TIMELAPS = 3.6 #Timelaps in s\n",
    "RHO0 = 20.0 #Density's initial value for t=0\n",
    "INITIAL_MULT = 20.0 #Multiplier for the density array\n",
    "\n",
    "density_space_array = np.ones(INTERVAL)*INITIAL_MULT\n",
    "density_space_array[10:20] = 50 #Initial condition"
   ]
  },
  {
   "cell_type": "markdown",
   "metadata": {},
   "source": [
    "Implémentons maintenant la fonction \"flux\" qui est donnée dans l'énoncé et qui donne le flux en fonction de la vitesse et de la densité. <br>"
   ]
  },
  {
   "cell_type": "code",
   "execution_count": 2,
   "metadata": {
    "collapsed": true
   },
   "outputs": [],
   "source": [
    "def flux(rho):\n",
    "\t\"\"\"\n",
    "\tCalculate the flow for a given rho.\n",
    "\t\"\"\"\n",
    "\treturn MAX_VEL*rho*(1-(rho/MAX_DEN))"
   ]
  },
  {
   "cell_type": "markdown",
   "metadata": {},
   "source": [
    "Définissons maintenant une fonction \"density\" qui va se charger de calculer la densité en chaque point de l'espace et du temps. <br>\n",
    "Nous avons choisi de ranger ces valeurs dans une matrice, où chaque colonne représente une position dans l'espace et chaque ligne une position dans le temps. <br>\n",
    "Les valeurs sont calculées par discrétisation de l'équation différentielle qui nous est donnée, à partir des valeurs qui nous sont données (c'est à dire la première ligne et la première colonne). La méthode de disrétisation va nous permettre de remplir tous les emplacements vides de cette matrice. <br>\n",
    "Nous obtenons ainsi une valeur de la densité pour chaque point qui nous intéresse dans l'espace-temps. <br>"
   ]
  },
  {
   "cell_type": "code",
   "execution_count": 3,
   "metadata": {
    "collapsed": true
   },
   "outputs": [],
   "source": [
    "def density(density_space_array, flux, time_max):\n",
    "\t\"\"\"\n",
    "\tCalculate a density_matrix from a given array and the flow function until time_max.\n",
    "\t\"\"\"\n",
    "\tdensity_matrix=[density_space_array]\n",
    "\tfor i in range(1,int(time_max/TIMELAPS)):\n",
    "\t\ttemp_array=[RHO0]\n",
    "\t\tfor j in range(1,INTERVAL):\n",
    "\t\t\ttemp_array.append(density_matrix[i-1][j]+(TIMELAPS/(LENGTH/INTERVAL))*(flux(density_matrix[i-1][j-1])-flux(density_matrix[i-1][j])))\n",
    "\t\tdensity_matrix.append(temp_array)\n",
    "\treturn density_matrix"
   ]
  },
  {
   "cell_type": "markdown",
   "metadata": {},
   "source": [
    "A partir de cette matrice contenant toutes les valeurs de la densité, nous allons calculer les valeurs de la vitesse corrrespondantes, que nous allons également ranger dans une matrice dont les lignes représenteront les différents temps et dont les colonnes représenteront les différents points de l'espace. <br>"
   ]
  },
  {
   "cell_type": "code",
   "execution_count": 4,
   "metadata": {
    "collapsed": true
   },
   "outputs": [],
   "source": [
    "def velocity(density_matrix):\n",
    "\t\"\"\"\n",
    "\tCalculate a velocity matrix from a given density_matrix.\n",
    "\t\"\"\"\n",
    "\tvelocity_matrix=[]\n",
    "\tfor i in range(len(density_matrix)):\n",
    "\t\ttemp_array=[]\n",
    "\t\tfor j in range(len(density_matrix[i])):\n",
    "\t\t\ttemp_array.append(MAX_VEL*(1-(density_matrix[i][j]/MAX_DEN)))\n",
    "\t\tvelocity_matrix.append(temp_array)\n",
    "\treturn velocity_matrix"
   ]
  },
  {
   "cell_type": "markdown",
   "metadata": {},
   "source": [
    "Nous voulons que le code sorte des valeurs un peu plus intéressantes qu'une simple liste des valeurs de la densité en chaque point x pour le temps choisi, comme par exemple la valeur moyenne, la valeur la plus petite et la valeur la plus grande de la vitesse pour chaque temps. <br>\n",
    "Nous allons donc maintenant définir une fonction qui calcule la valeur moyenne de la vitesse pour chaque temps, et donc la valeur moyenne des valeurs de chaque ligne de la matrice. <br>\n",
    "Les fonctions qui servent à trouver la valeur minimale et la valeur maximale existent déjà en python, il n'y a donc pas besoin de les implémenter ici. <br>"
   ]
  },
  {
   "cell_type": "code",
   "execution_count": 5,
   "metadata": {
    "collapsed": true
   },
   "outputs": [],
   "source": [
    "def find_average(array):\n",
    "\t\"\"\"\n",
    "\tCalculate the average value of an array.\n",
    "\t\"\"\"\n",
    "\ttotal = 0\n",
    "\tfor i in range(len(array)):\n",
    "\t\ttotal+=array[i]\n",
    "\treturn total/len(array)"
   ]
  },
  {
   "cell_type": "markdown",
   "metadata": {
    "collapsed": true
   },
   "source": [
    "Implémentons maintenant la partie principale du code. <br>\n",
    "Après que le temps souhaité aie été choisi, elle donne le choix entre plusieurs modes d'utilisation: un où on nous donne toutes les valeurs de la vitesse pour le temps demandé, et un autre où on nous donne uniquement la valeur maximale, la valeur minimale et la valeur moyenne pour le temps demandé. <br>\n",
    "NB: si le temps demandé n'est pas un multiple du pas qui a été implémenté, la valeur qui sortira correspondra au temps multiple du pas précédant le temps qui a été demandé. <br>"
   ]
  },
  {
   "cell_type": "code",
   "execution_count": 6,
   "metadata": {
    "collapsed": false
   },
   "outputs": [
    {
     "name": "stdout",
     "output_type": "stream",
     "text": [
      "Quelle valeur de temps final désirez-vous? (en minutes) 3\n",
      "Quel mode souhaitez-vous? 1 : Afficher toutes les valeurs de la vitesse en chaque point pour le temps donné, 2 : Afficher les valeurs minimales, moyennes et maximales pour le temps donné, 0 : Quitter 2\n",
      "La valeur moyenne est : 33.8738780716 m/s\n",
      "La valeur minimale est : 30.9720006425 m/s\n",
      "La valeur maximale est : 34.757600000000004 m/s\n",
      "Quelle valeur de temps final désirez-vous? (en minutes) 0\n",
      "Quel mode souhaitez-vous? 1 : Afficher toutes les valeurs de la vitesse en chaque point pour le temps donné, 2 : Afficher les valeurs minimales, moyennes et maximales pour le temps donné, 0 : Quitter 0\n",
      "Au revoir!\n"
     ]
    }
   ],
   "source": [
    "if __name__==\"__main__\":\n",
    "\ttime_max=float(input(\"Quelle valeur de temps final désirez-vous? (en minutes) \"))\n",
    "\tmode=int(input(\"Quel mode souhaitez-vous? 1 : Afficher toutes les valeurs de la vitesse en chaque point pour le temps donné, 2 : Afficher les valeurs minimales, moyennes et maximales pour le temps donné, 0 : Quitter \"))\n",
    "\twhile mode!=0: #Main loop\n",
    "\t\tdensity_matrix=density(density_space_array,flux,time_max*60.0)\n",
    "\t\tvelocity_matrix=velocity(density_matrix)\n",
    "\t\tif mode == 1 : #The whole array\n",
    "\t\t\tprint(velocity_matrix[int(time_max*60.0/TIMELAPS)-1])\n",
    "\t\telif mode == 2 : #Significant values\n",
    "\t\t\tprint(\"La valeur moyenne est : \"+str(find_average(velocity_matrix[int(time_max*60.0/TIMELAPS)-1]))+\" m/s\")\n",
    "\t\t\tprint(\"La valeur minimale est : \"+str(min(velocity_matrix[int(time_max*60.0/TIMELAPS)-1]))+\" m/s\")\n",
    "\t\t\tprint(\"La valeur maximale est : \"+str(max(velocity_matrix[int(time_max*60.0/TIMELAPS)-1]))+\" m/s\")\n",
    "\t\telse: #Wrong input\n",
    "\t\t\tprint(\"Veuillez entrer 1, 2 ou 0\")\n",
    "\t\ttime_max=float(input(\"Quelle valeur de temps final désirez-vous? (en minutes) \"))\n",
    "\t\tmode=int(input(\"Quel mode souhaitez-vous? 1 : Afficher toutes les valeurs de la vitesse en chaque point pour le temps donné, 2 : Afficher les valeurs minimales, moyennes et maximales pour le temps donné, 0 : Quitter \"))\n",
    "\tprint(\"Au revoir!\")"
   ]
  },
  {
   "cell_type": "markdown",
   "metadata": {},
   "source": [
    "Les valeurs qui sont obtenues paraissent toutes cohérentes et ont été vérifiées sur le site du cours (et ainsi confirmées). <br>"
   ]
  }
 ],
 "metadata": {
  "anaconda-cloud": {},
  "kernelspec": {
   "display_name": "Python [default]",
   "language": "python",
   "name": "python3"
  },
  "language_info": {
   "codemirror_mode": {
    "name": "ipython",
    "version": 3
   },
   "file_extension": ".py",
   "mimetype": "text/x-python",
   "name": "python",
   "nbconvert_exporter": "python",
   "pygments_lexer": "ipython3",
   "version": "3.5.2"
  }
 },
 "nbformat": 4,
 "nbformat_minor": 1
}
