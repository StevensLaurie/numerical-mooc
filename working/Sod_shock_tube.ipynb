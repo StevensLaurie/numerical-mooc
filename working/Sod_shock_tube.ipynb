{
 "cells": [
  {
   "cell_type": "markdown",
   "metadata": {
    "collapsed": true
   },
   "source": [
    "Auteurs: Guillaume PALUMBO et Laurie STEVENS <br>\n",
    "Nom: Sod Shock Tube <br>\n",
    "Date: 14 novembre 2016 <br>"
   ]
  },
  {
   "cell_type": "markdown",
   "metadata": {},
   "source": [
    "Ce code a pour but de calculer l'évolution de la densité, de la vitesse et de la pression dans un tube de Sod. <br>\n",
    "Il s'agit d'un tube au milieu duquel se trouve une cloison (en x=O m). Les pressions et densité sont différentes à gauche et à droite de cette cloison. La vitesse est quand à elle initialement nulle des deux côtés. <br>\n",
    "A t=0 s, la cloison est instantanément retirée. L'air qui se déplace va provoquer une onde de choc lorsque la pression et la densité vont tenter de se rééquilibrer. <br>\n",
    "Le but est d'étudier le déplacement de cette onde dans le tube à travers le temps."
   ]
  },
  {
   "cell_type": "markdown",
   "metadata": {},
   "source": [
    "Premièrement, rentrons toutes les valeurs de l'énoncé dont nous aurons besoin pour résoudre ce problème."
   ]
  },
  {
   "cell_type": "code",
   "execution_count": 1,
   "metadata": {
    "collapsed": true
   },
   "outputs": [],
   "source": [
    "import numpy as np\n",
    "import matplotlib.pyplot as pyp\n",
    "\n",
    "INTERVAL = 81 #nx\n",
    "SPACELAPS = 0.25 #dx in m\n",
    "TIMELAPS = 0.0002 #dt in s\n",
    "GAMMA = 1.4 #const depending on the gaz\n",
    "DENSITY_L=1.0 #in kg/m³\n",
    "VELOCITY_L=0.0 #in m/s\n",
    "PRESSURE_L=100000.0 #in N/m²\n",
    "DENSITY_R=0.125 #in kg/m³\n",
    "VELOCITY_R=0.0 #in m/s\n",
    "PRESSURE_R=10000.0 #in N/m²\n",
    "LEFT=-10.0 #left end of the tube\n",
    "RIGHT=10.0 #right end of the tube\n",
    "TIME_MAX=0.01 #in s\n",
    "SPACE=2.5 #in m"
   ]
  },
  {
   "cell_type": "markdown",
   "metadata": {},
   "source": [
    "Implémentons maintenant une fonction qui permet d'initialiser les valeurs de la matrice U (qui représente les valeurs conservée pour l'équation d'Euler à chaque point de l'espace) à partir des conditions initiales."
   ]
  },
  {
   "cell_type": "code",
   "execution_count": 2,
   "metadata": {
    "collapsed": true
   },
   "outputs": [],
   "source": [
    "def initial_u_line():\n",
    "\tfirst_line=np.zeros((INTERVAL,3))\n",
    "\tfirst_line[:(INTERVAL//2),0]=DENSITY_L\n",
    "\tfirst_line[:(INTERVAL//2),1]=DENSITY_L*VELOCITY_L\n",
    "\tfirst_line[:(INTERVAL//2),2]=(PRESSURE_L/(GAMMA-1))+((DENSITY_L*(VELOCITY_L**2))/2.0)\n",
    "\tfirst_line[(INTERVAL//2):,0]=DENSITY_R\n",
    "\tfirst_line[(INTERVAL//2):,1]=DENSITY_R*VELOCITY_R\n",
    "\tfirst_line[(INTERVAL//2):,2]=(PRESSURE_R/(GAMMA-1))+((DENSITY_R*(VELOCITY_R**2))/2.0)\n",
    "\treturn first_line"
   ]
  },
  {
   "cell_type": "markdown",
   "metadata": {},
   "source": [
    "Implémentons une fonction qui calcule les valeurs de la matrice F (qui représente le vecteur flux à chaque point de l'espace) à partir des valeurs de la matrice U."
   ]
  },
  {
   "cell_type": "code",
   "execution_count": 3,
   "metadata": {
    "collapsed": true
   },
   "outputs": [],
   "source": [
    "def next_line_f(u_line):\n",
    "\tf_line=np.zeros((INTERVAL,3))\n",
    "\tf_line[:,0]=u_line[:,1]\n",
    "\tf_line[:,1]=((u_line[:,1]**2)/u_line[:,0])+((GAMMA-1)*(u_line[:,2]-((u_line[:,1]**2)/(u_line[:,0]*2.0))))\n",
    "\tf_line[:,2]=(u_line[:,2]+((GAMMA-1)*((u_line[:,2])-((u_line[:,1]**2)/(u_line[:,0]*2.0)))))*(u_line[:,1]/u_line[:,0])\n",
    "\treturn f_line"
   ]
  },
  {
   "cell_type": "markdown",
   "metadata": {},
   "source": [
    "Créons maintenant une fonction qui calcule la matrice U demi (qui servira dans à calculer les valeurs de F demi) à partir des valeurs de U et F."
   ]
  },
  {
   "cell_type": "code",
   "execution_count": 4,
   "metadata": {
    "collapsed": true
   },
   "outputs": [],
   "source": [
    "def half_u(u_line,f_line):\n",
    "\thalf_line_u=np.zeros((INTERVAL-1,3))\n",
    "\tfor i in range(3):\n",
    "\t\thalf_line_u[:,i]=((u_line[1:,i]+u_line[:-1,i])/2.0)-((TIMELAPS/(2.0*SPACELAPS))*(f_line[1:,i]-f_line[:-1,i]))\n",
    "\treturn half_line_u"
   ]
  },
  {
   "cell_type": "markdown",
   "metadata": {},
   "source": [
    "Définissons maintenant la fonction qui calcule F demi à partir des valeurs de U demi. La matrice F demi permettra d'utiliser la méthode de Richtmyer pour faire la boucle qui nous fera avancer dans le temps."
   ]
  },
  {
   "cell_type": "code",
   "execution_count": 5,
   "metadata": {
    "collapsed": true
   },
   "outputs": [],
   "source": [
    "def half_f(half_line_u):\n",
    "\thalf_line_f=np.zeros((INTERVAL-1,3))\n",
    "\thalf_line_f[:,0]=half_line_u[:,1]\n",
    "\thalf_line_f[:,1]=((half_line_u[:,1]**2)/half_line_u[:,0])+((GAMMA-1)*(half_line_u[:,2]-((1.0/2.0)*(((half_line_u[:,1]**2)/half_line_u[:,0])))))\n",
    "\thalf_line_f[:,2]=(half_line_u[:,2]+((GAMMA-1)*((half_line_u[:,2])-((half_line_u[:,1]**2)/(half_line_u[:,0]*2.0)))))*(half_line_u[:,1]/half_line_u[:,0])\n",
    "\treturn half_line_f"
   ]
  },
  {
   "cell_type": "markdown",
   "metadata": {},
   "source": [
    "Finalement, implémentons la fonction qui permet de calculer la matrice U au temps suivant à partir de la matrice U actuelle et de la matrice F demi."
   ]
  },
  {
   "cell_type": "code",
   "execution_count": 6,
   "metadata": {
    "collapsed": true
   },
   "outputs": [],
   "source": [
    "def next_line_u(u_line,half_line_f):\n",
    "\tfollowing=u_line.copy()\n",
    "\tfor i in range(3):\n",
    "\t\tfollowing[1:-1,i]=u_line[1:-1,i]-((TIMELAPS/SPACELAPS)*(half_line_f[1:,i]-half_line_f[:-1,i]))\n",
    "\treturn following"
   ]
  },
  {
   "cell_type": "markdown",
   "metadata": {},
   "source": [
    "Nous pouvons enfin écrire la boucle qui nous permettra d'avancer dans le temps. <br>\n",
    "Pour ce faire, initialisons tout d'abord les valeurs des matrices U,F,U demi, F demi. <br>\n",
    "Ensuite, dans la boucle, calculons d'abord la nouvelle matrice U, et de celle-ci nous pouvons sortir les matrices F, U demi et F demi, et ainsi de suite la matrice U suivante et ainsi de suite jusqu'au temps souhaité."
   ]
  },
  {
   "cell_type": "code",
   "execution_count": 7,
   "metadata": {
    "collapsed": false
   },
   "outputs": [],
   "source": [
    "u_line = initial_u_line()\n",
    "f_line = next_line_f(u_line)\n",
    "half_line_u = half_u(u_line,f_line)\n",
    "half_line_f = half_f(half_line_u)\n",
    "for i in range(int(TIME_MAX/TIMELAPS)):\n",
    "\tu_line=next_line_u(u_line,half_line_f)\n",
    "\tf_line=next_line_f(u_line)\n",
    "\thalf_line_u=half_u(u_line,f_line)\n",
    "\thalf_line_f=half_f(half_line_u) "
   ]
  },
  {
   "cell_type": "markdown",
   "metadata": {},
   "source": [
    "Il reste maintenant simplement à calculer les valeurs de la densité, de la vitesse et de la pression à partir des éléments de la dernière matrice U à avoir été calculée."
   ]
  },
  {
   "cell_type": "code",
   "execution_count": 8,
   "metadata": {
    "collapsed": false
   },
   "outputs": [
    {
     "name": "stdout",
     "output_type": "stream",
     "text": [
      "LA DENSITE EN x=2.5 m A t=0.01 s EST : 0.374691402648 kg/m³\n",
      "LA VITESSE EN x=2.5 m A t=0.01 s EST : 292.611471527 m/s\n",
      "LA PRESSION EN x=2.5 m A t=0.01 s EST : 30250.8901676 N/m²\n"
     ]
    }
   ],
   "source": [
    "position = np.linspace(LEFT,RIGHT,INTERVAL)\n",
    "index=int(-(LEFT-SPACE)/SPACELAPS)\n",
    "density=u_line[:,0]\n",
    "velocity=u_line[:,1]/u_line[:,0]\n",
    "pressure=(GAMMA-1)*(u_line[:,2]-((u_line[:,1]**2)/(2.0*u_line[:,0])))\n",
    "print(\"LA DENSITE EN x=\"+str(SPACE)+\" m A t=\"+str(TIME_MAX)+\" s EST : \"+str(density[index])+\" kg/m³\")\n",
    "print(\"LA VITESSE EN x=\"+str(SPACE)+\" m A t=\"+str(TIME_MAX)+\" s EST : \"+str(velocity[index])+\" m/s\")\n",
    "print(\"LA PRESSION EN x=\"+str(SPACE)+\" m A t=\"+str(TIME_MAX)+\" s EST : \"+str(pressure[index])+\" N/m²\")"
   ]
  },
  {
   "cell_type": "markdown",
   "metadata": {},
   "source": [
    "Comme toujours, ces résultats ont été vérifiés et confirmés sur le site du MOOC."
   ]
  },
  {
   "cell_type": "markdown",
   "metadata": {},
   "source": [
    "En observant les graphiques ci-dessous, on se rend compte que leur forme générale correspond plus ou moins aux courbes attendues analytiquement. <br>\n",
    "Les plateaux intermédiaires représentent l'onde de choc qui se déplace dans le tube. <br>\n",
    "<br>\n",
    "Au niveau des ressemblances avec le résultat analytique, on peut citer les plateaux. En effet, le graphique de la densité présente grosso modo deux plateaux intermédiaires entre le plateau de gauche et le plateau de droite (bien que mal définis, il reste possible de les deviner). Celui de la vitesse présente un seul plateau, le seul endroit où la vitesse n'est pas nulle. Le graphique de la pression présente un seul plateau intermédiaire entre le plateau de gauche et le plateau de droite. <br>\n",
    "Par contre, pour les différences, on peut noter la mauvaise définition des plateaux cités ci-dessus. En effet, le début et la fin des plateaux sont systématiquement marqués par des pics soudains vers le haut ou vers le bas. De plus, comme dit ci-dessus, les deux plateaux du graphique de la densité sont mal définis et on les devine plus qu'on ne les voit. <br>"
   ]
  },
  {
   "cell_type": "code",
   "execution_count": 9,
   "metadata": {
    "collapsed": false
   },
   "outputs": [
    {
     "name": "stdout",
     "output_type": "stream",
     "text": [
      "Graphique de la densité à t=0.01 s en fonction de la position:\n"
     ]
    },
    {
     "data": {
      "image/png": "[encoded data removed]",
      "text/plain": [
       "<matplotlib.figure.Figure at 0x1309481c940>"
      ]
     },
     "metadata": {},
     "output_type": "display_data"
    }
   ],
   "source": [
    "print(\"Graphique de la densité à t=0.01 s en fonction de la position:\")\n",
    "pyp.plot(position,density)\n",
    "pyp.show()"
   ]
  },
  {
   "cell_type": "code",
   "execution_count": 10,
   "metadata": {
    "collapsed": false
   },
   "outputs": [
    {
     "name": "stdout",
     "output_type": "stream",
     "text": [
      "Graphique de la vitesse à t=0.01 s en fonction de la position:\n"
     ]
    },
    {
     "data": {
      "image/png": "[encoded data removed]",
      "text/plain": [
       "<matplotlib.figure.Figure at 0x130948d8c88>"
      ]
     },
     "metadata": {},
     "output_type": "display_data"
    }
   ],
   "source": [
    "print(\"Graphique de la vitesse à t=0.01 s en fonction de la position:\")\n",
    "pyp.plot(position,velocity)\n",
    "pyp.show() "
   ]
  },
  {
   "cell_type": "code",
   "execution_count": 11,
   "metadata": {
    "collapsed": false
   },
   "outputs": [
    {
     "name": "stdout",
     "output_type": "stream",
     "text": [
      "Graphique de la pression à t=0.01 s en fonction de la position:\n"
     ]
    },
    {
     "data": {
      "image/png": "[encoded data removed]",
      "text/plain": [
       "<matplotlib.figure.Figure at 0x130948d8518>"
      ]
     },
     "metadata": {},
     "output_type": "display_data"
    }
   ],
   "source": [
    "print(\"Graphique de la pression à t=0.01 s en fonction de la position:\")\n",
    "pyp.plot(position,pressure)\n",
    "pyp.show() "
   ]
  },
  {
   "cell_type": "markdown",
   "metadata": {},
   "source": [
    "On peut ainsi conclure sur le fait que cette méthode est une relativement bonne approximation du résultat analytique, sauf si on se trouve à la limite entre les plateaux, là où les valeurs font des pics inattendus dans le modèle analytique."
   ]
  },
  {
   "cell_type": "code",
   "execution_count": null,
   "metadata": {
    "collapsed": true
   },
   "outputs": [],
   "source": []
  }
 ],
 "metadata": {
  "anaconda-cloud": {},
  "kernelspec": {
   "display_name": "Python [default]",
   "language": "python",
   "name": "python3"
  },
  "language_info": {
   "codemirror_mode": {
    "name": "ipython",
    "version": 3
   },
   "file_extension": ".py",
   "mimetype": "text/x-python",
   "name": "python",
   "nbconvert_exporter": "python",
   "pygments_lexer": "ipython3",
   "version": "3.5.2"
  }
 },
 "nbformat": 4,
 "nbformat_minor": 1
}
