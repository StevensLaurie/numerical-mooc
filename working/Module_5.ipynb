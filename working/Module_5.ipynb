{
 "cells": [
  {
   "cell_type": "markdown",
   "metadata": {
    "collapsed": false
   },
   "source": [
    "Module 5: Stokes Flow <br>\n",
    "Laurie Stevens & Guillaume Palumbo <br>\n",
    "Année 2016-2017"
   ]
  },
  {
   "cell_type": "markdown",
   "metadata": {},
   "source": [
    "Nous allons ici nous pencher sur un flux de Stokes dans une cavité carrée (à deux dimensions). <br>\n",
    "Nous nous trouvons dans une situation classique : trois des parois de la cavités sont immobiles, et seule le \"couvercle\" de la cavité se déplace, à une vitesse constante u=1. <br>\n",
    "La cavité possède des parois de longueur 1, qu'on divisera en 40 intervalles égaux. Pour étudier la fonction d'onde et la vorticité au sein de la cavité, on va utiliser des arrays de taille 41x41, initialement nuls, qu'on remplira ensuite par la méthode de Jacobi. "
   ]
  },
  {
   "cell_type": "code",
   "execution_count": 3,
   "metadata": {
    "collapsed": true
   },
   "outputs": [],
   "source": [
    "import numpy as np\n",
    "from matplotlib import pyplot\n",
    "%matplotlib inline\n",
    "\n",
    "nx = 41\n",
    "ny = 41\n",
    "\n",
    "l = 1.0\n",
    "h = 1.0\n",
    "\n",
    "dx = l/(nx-1)\n",
    "dy = h/(ny-1)\n",
    "\n",
    "l1_target = 1e-6\n",
    "\n",
    "omega_initial=np.zeros((41,41))\n",
    "psi_initial=np.zeros((41,41))\n",
    "u=np.zeros(41)\n",
    "u[-1]=1.0"
   ]
  },
  {
   "cell_type": "markdown",
   "metadata": {},
   "source": [
    "On définit maintenant l'array des valeurs de la fonction d'onde dans la cavité. On note que par les conditions de bord, la fonction est nulle à tous les bords sauf au bord supérieur. Quant aux valeurs hors du bord, on les obtient à partir de l'équation de poisson discrétisée donnant la vorticité comme le laplacien de la fonction d'onde : l'expression de la fonction d'onde en un point à l'itération suivante est donnée dans le notebook 2 sur la résolution de l'équation de Poisson en 2D."
   ]
  },
  {
   "cell_type": "code",
   "execution_count": 3,
   "metadata": {
    "collapsed": true
   },
   "outputs": [],
   "source": [
    "def next_psi(old_omega,old_psi):\n",
    "    new_psi = np.zeros((41,41))\n",
    "    new_psi[1:-1,1:-1] = (1.0/(2.0*(pow(dx,2)+pow(dy,2))))*(((old_psi[2:,1:-1]+old_psi[:-2,1:-1])*pow(dx,2))+((old_psi[1:-1,2:]+old_psi[1:-1,:-2])*pow(dy,2))-(old_omega[1:-1,1:-1]*pow(dx,2)*pow(dy,2)))\n",
    "    new_psi[0,:] = 0\n",
    "    new_psi[-1,:] = 0\n",
    "    new_psi[:,0] = 0\n",
    "    new_psi[:,-1] = 0\n",
    "    return new_psi"
   ]
  },
  {
   "cell_type": "markdown",
   "metadata": {},
   "source": [
    "A partir des données obtenues pour la fonction d'onde et des valeurs initiales, on obtient les valeurs des la vorticité dans la cavité. Les valeurs le long du bord supérieur sont données par une formule donnée dans le notebook 5, quant aux valeurs le long du bord inférieur, on les obtient par un raisonnement semblable, dans lequel on tâche maintenant d'exprimer la valeur recherchée en fonction de termes supérieurs (sinon, on sort du domaine). Ces formules permettent en plus de ne pas se préoccuper des bords latéraux."
   ]
  },
  {
   "cell_type": "code",
   "execution_count": 13,
   "metadata": {
    "collapsed": true
   },
   "outputs": [],
   "source": [
    "def next_omega(old_omega,old_psi,new_psi):\n",
    "    new_omega = np.zeros((41,41))\n",
    "    new_omega[1:-1,1:-1] = (1.0/(2*(pow(dx,2)+pow(dy,2)))) * (((old_omega[:-2,1:-1]+old_omega[2:,1:-1])*pow(dx,2))+((old_omega[1:-1,:-2]+old_omega[1:-1,2:])*pow(dy,2)))\n",
    "    new_omega[-1,1:-1] = (-1.0/(2.0*dx*dx))*(8.0*new_psi[-2,1:-1]-new_psi[-3,1:-1])-(3.0*u[-1]/dx)\n",
    "    new_omega[0,1:-1] = (-1.0/(2.0*dx*dx))*(8.0*new_psi[1,1:-1]-new_psi[2,1:-1])\n",
    "    new_omega[:,0] = (-1.0/(2.0*dy*dy))*(8.0*new_psi[:,1]-new_psi[:,2])\n",
    "    new_omega[:,-1] = ((-1.0/(2.0*dy*dy))*(8.0*new_psi[:,-2]-new_psi[:,-3]))\n",
    "\n",
    "    return new_omega"
   ]
  },
  {
   "cell_type": "markdown",
   "metadata": {},
   "source": [
    "On définit ici la norme L1 comme expliqué dans le notebook."
   ]
  },
  {
   "cell_type": "code",
   "execution_count": 14,
   "metadata": {
    "collapsed": true
   },
   "outputs": [],
   "source": [
    "def L1norm(new, old):\n",
    "    norm = np.sum(np.abs(new-old))\n",
    "    return norm"
   ]
  },
  {
   "cell_type": "markdown",
   "metadata": {},
   "source": [
    "On définit ici la fonction qui nous permet, à partir d'une boucle, de recalculer les matrices new_psi et new_omega jusqu'à ce que notre condition sur la norme L1 soit satisfaite. <br>\n",
    "Vous pourrez noter que nous avons dû \"forcer\" certaines itérations. En effet, au tout début, lorsque le mécanisme se \"met en route\" la différence entre les normes des matrices de chaque itération est extrêmement petite, car le système n'a pas encore vraiment évolué par rapport à son état initial."
   ]
  },
  {
   "cell_type": "code",
   "execution_count": 15,
   "metadata": {
    "collapsed": true
   },
   "outputs": [],
   "source": [
    "def resolution(new_psi,new_omega,norm_omega,norm_psi):\n",
    "    step = 1\n",
    "    while (norm_psi >= l1_target or norm_omega >= l1_target or step <= 3):\n",
    "        old_psi = new_psi\n",
    "        old_omega = new_omega\n",
    "        new_psi = next_psi(-old_omega,old_psi)\n",
    "        new_omega = next_omega(old_omega,old_psi,new_psi)\n",
    "        norm_psi = L1norm(new_psi,old_psi)\n",
    "        norm_omega = L1norm(new_omega,old_omega)\n",
    "        step = step + 1\n",
    "    return new_psi, new_omega, norm_psi, norm_omega, step"
   ]
  },
  {
   "cell_type": "markdown",
   "metadata": {},
   "source": [
    "On faire la première itération à la main, afin de pouvoir définir les normes L1 de oméga et psi pour les donner à la fonction 'resolution'. On print ensuite les résulstats qui doivent être vérifiés sur le site."
   ]
  },
  {
   "cell_type": "code",
   "execution_count": 16,
   "metadata": {
    "collapsed": false
   },
   "outputs": [
    {
     "name": "stdout",
     "output_type": "stream",
     "text": [
      "Maximum Omega: 78.1926612286\n",
      "Maximum Psi: 0.0998451724622\n",
      "Nombre etapes: 4060\n",
      "[ 0.     -0.0575 -0.0944 -0.0944 -0.0575  0.    ]\n"
     ]
    }
   ],
   "source": [
    "old_omega = omega_initial\n",
    "old_psi = psi_initial\n",
    "\n",
    "new_psi = next_psi(old_omega,old_psi)\n",
    "new_omega = next_omega(old_omega,old_psi,new_psi)\n",
    "\n",
    "norm_psi = L1norm(new_psi,old_psi)\n",
    "norm_omega = L1norm(new_omega,old_omega)\n",
    "\n",
    "last_psi, last_omega, last_norm_psi, last_norm_omega, step = resolution(new_psi,new_omega,norm_omega,norm_psi)\n",
    "\n",
    "print('Maximum Omega:', np.max(np.abs(last_omega)))\n",
    "print('Maximum Psi:', np.max(np.abs(last_psi)))\n",
    "print('Nombre etapes:',step)\n",
    "print(np.round(last_psi[32,::8], 4))\n"
   ]
  },
  {
   "cell_type": "markdown",
   "metadata": {},
   "source": [
    "Maintenant que nos valeurs de la fonction d'onde et de la vorticité sont correctes, faisons un plot de la fonction d'onde en fonction de la position dans la cavité:"
   ]
  },
  {
   "cell_type": "code",
   "execution_count": 8,
   "metadata": {
    "collapsed": false
   },
   "outputs": [
    {
     "data": {
      "text/plain": [
       "<function matplotlib.pyplot.colorbar>"
      ]
     },
     "execution_count": 8,
     "metadata": {},
     "output_type": "execute_result"
    },
    {
     "data": {
      "image/png": "[encoded data removed]",
      "text/plain": [
       "<matplotlib.figure.Figure at 0x7f64c43a7518>"
      ]
     },
     "metadata": {},
     "output_type": "display_data"
    }
   ],
   "source": [
    "x=np.linspace(0,1,nx)\n",
    "y=np.linspace(0,1,ny)\n",
    "pyplot.figure(figsize=(10,10))\n",
    "pyplot.contourf(x,y,last_psi,20)\n",
    "pyplot.xlabel('$x$')\n",
    "pyplot.ylabel('$y$')\n",
    "pyplot.colorbar"
   ]
  },
  {
   "cell_type": "markdown",
   "metadata": {
    "collapsed": true
   },
   "source": [
    "On peut finalement voir que le résultat obtenu ici est très semblable au résultat attendu, présenté dans le notebook. <br>\n",
    "On déduit ainsi que le modèle utilisé est satisfaisant."
   ]
  },
  {
   "cell_type": "code",
   "execution_count": null,
   "metadata": {
    "collapsed": true
   },
   "outputs": [],
   "source": []
  }
 ],
 "metadata": {
  "kernelspec": {
   "display_name": "Python 3",
   "language": "python",
   "name": "python3"
  },
  "language_info": {
   "codemirror_mode": {
    "name": "ipython",
    "version": 3
   },
   "file_extension": ".py",
   "mimetype": "text/x-python",
   "name": "python",
   "nbconvert_exporter": "python",
   "pygments_lexer": "ipython3",
   "version": "3.5.2"
  }
 },
 "nbformat": 4,
 "nbformat_minor": 2
}
