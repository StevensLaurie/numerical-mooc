{
 "cells": [
  {
   "cell_type": "markdown",
   "metadata": {},
   "source": [
    "Stevens Laurie & Palumbo Guillaume <br>\n",
    "Date : 17 octobre 2016 <br>\n",
    "Coding assignment: Rocket flight <br>"
   ]
  },
  {
   "cell_type": "markdown",
   "metadata": {},
   "source": [
    "Ce programme est destiné à résoudre le devoir n°1, c'est à dire à résoudre les équations du mouvement d'une fusée en vol purement vertical, soumis à une oscillation phugoïde. <br>\n",
    "Dans ce cadre, nous utiliserons une méthode d'Euler afin de résoudre les équations différentielles de la vitesse et de la hauteur (les résultats de la première seront nécéssaires pour résoudre la seconde). <br>"
   ]
  },
  {
   "cell_type": "markdown",
   "metadata": {},
   "source": [
    "On initialise les variables globales avec les valeurs qui nous sont données dans l'énoncé, et on fait les import des fonctions de numpy. <br>"
   ]
  },
  {
   "cell_type": "code",
   "execution_count": 2,
   "metadata": {
    "collapsed": true
   },
   "outputs": [],
   "source": [
    "import numpy as np\n",
    "\n",
    "GRAV=9.81\n",
    "DENSITY=1.091\n",
    "DRAG_COEFF=0.15\n",
    "MASS=50.0\n",
    "MAX_CROSS=np.pi/4.0\n",
    "EXH_SPD=325.0\n",
    "PROP=100.0\n",
    "timestep=0.1"
   ]
  },
  {
   "cell_type": "markdown",
   "metadata": {},
   "source": [
    "On définit une fonction générale implémentant la méthode d'Euler. <br>"
   ]
  },
  {
   "cell_type": "code",
   "execution_count": 3,
   "metadata": {
    "collapsed": true
   },
   "outputs": [],
   "source": [
    "def euler_method(time, y, time_end, foo):\n",
    "\t\"\"\"\n",
    "\tCalculate a Euler's method from time to time_end with a initial value of y on a function foo.\n",
    "\t\"\"\"\n",
    "\titeration = ((time_end-time)/timestep) + 1 \n",
    "\ttime_array=np.arange(time,time_end+timestep,timestep) #each time that will be calculated\n",
    "\tvalue_array=[y]\n",
    "\tfor i in range(int(iteration)-1): #value calculation for each time\n",
    "\t\ty += timestep*foo(time, y)\n",
    "\t\ttime = time_array[i+1]\n",
    "\t\tvalue_array.append(y)\n",
    "\treturn time_array,value_array"
   ]
  },
  {
   "cell_type": "markdown",
   "metadata": {},
   "source": [
    "On implémente une des équations différentielles données dans l'énoncé (celle pour la vitesse), qu'on va résoudre grâce à la méthode d'Euler. <br>\n",
    "Pour ce faire, on implémente également la fonction définissant la variation de la masse de carburant dans le temps. <br>"
   ]
  },
  {
   "cell_type": "code",
   "execution_count": 4,
   "metadata": {
    "collapsed": true
   },
   "outputs": [],
   "source": [
    "def foo(time, y):\n",
    "\t\"\"\"\n",
    "\tInitial function given in the enonce.\n",
    "\t\"\"\"\n",
    "\tif time<5.0: #calculation of the remaining propellant\n",
    "\t\tremaining=PROP-(time*20.0)\n",
    "\t\tremaining_derivate=20.0\n",
    "\telse:\n",
    "\t\tremaining=0\n",
    "\t\tremaining_derivate=0\n",
    "\tres = (-(MASS+remaining)*GRAV + remaining_derivate*EXH_SPD - (1.0/2.0)*DENSITY*y*abs(y)*MAX_CROSS*DRAG_COEFF)/(MASS+remaining)\n",
    "\treturn res"
   ]
  },
  {
   "cell_type": "markdown",
   "metadata": {},
   "source": [
    "On calcule les hauteurs en fonction des vitesses en appliquant une méthode d'Euler simplifiée à l'autre équation différentielle qui nous est donnée (celle pour la hauteur). En effet, ici la fonction \"foo\" dont il est question dans la méthode d'Euler générale est en fait un ensemble de valeurs discrètes (les valeurs de la vitesse) et non pas une fonction continue comme pour l'équation différentielle de la vitesse; l'écriture de la méthode d'Euler est donc simplifiable ici. <br>\n",
    "On utilise, dans ce calcul, les valeurs de la vitesse qu'on aura trouvées grâce à la méthode d'Euler appliquée à l'autre équation différentielle (celle pour la vitesse). <br>"
   ]
  },
  {
   "cell_type": "code",
   "execution_count": 5,
   "metadata": {
    "collapsed": true
   },
   "outputs": [],
   "source": [
    "def height(velocity_array):\n",
    "\t\"\"\"\n",
    "\tCalculate the height of the rocket for each value in the velocity_array.\n",
    "\t\"\"\"\n",
    "\theight_array=[timestep*velocity_array[0]]\n",
    "\tfor i in range(1,len(velocity_array)):\n",
    "\t\theight_array.append(height_array[-1] + timestep*velocity_array[i])\n",
    "\treturn height_array"
   ]
  },
  {
   "cell_type": "markdown",
   "metadata": {},
   "source": [
    "On définit une fonction qui nous fournira un bel affichage des résultats. <br>"
   ]
  },
  {
   "cell_type": "code",
   "execution_count": 6,
   "metadata": {
    "collapsed": true
   },
   "outputs": [],
   "source": [
    "def display(time_array,velocity_array,height_array):\n",
    "\t\"\"\"\n",
    "\tPretty display of the values in each array.\n",
    "\t\"\"\"\n",
    "\tprint(\"TIME\", \"VELOCITY\", \"HEIGHT\") #columns headers\n",
    "\tfor i in range(len(time_array)):\n",
    "\t\tprint (time_array[i],velocity_array[i],height_array[i])"
   ]
  },
  {
   "cell_type": "markdown",
   "metadata": {},
   "source": [
    "Et enfin, on fait le corps du programme, qui nous permettra d'entrer la valeur de t souhaitée ainsi que de choisir entre plusieurs modes d'affichage (soit toutes les valeurs, soit une valeur spécifique). <br>"
   ]
  },
  {
   "cell_type": "code",
   "execution_count": null,
   "metadata": {
    "collapsed": true
   },
   "outputs": [],
   "source": [
    "if __name__==\"__main__\":\n",
    "\ttime_end=float(input(\"Quelle valeur de temps final désirez-vous? (en secondes)\"))\n",
    "\tmode=int(input(\"Voulez-vous afficher toutes les valeurs pour t=0 jusqu'au temps final? (1 pour toutes les valeurs, 2 pour uniquement le temps final, 0 pour quitter)\"))\n",
    "\twhile mode!=0:#main loop\n",
    "\t\ttime_array, velocity_array = euler_method(0.0, 0.0, time_end, foo)\n",
    "\t\theight_array=height(velocity_array)\n",
    "\t\tif mode==1:#every value\n",
    "\t\t\tdisplay(time_array,velocity_array,height_array)\n",
    "\t\telif mode==2:#last value only\n",
    "\t\t\tprint(\"Le temps est :\",time_array[-1],\" s\")\n",
    "\t\t\tprint(\"La vitesse est :\",velocity_array[-1],\" m/s\")\n",
    "\t\t\tprint(\"La hauteur est :\",height_array[-1],\" m\")\n",
    "\t\telse:#bad input\n",
    "\t\t\tprint(\"Veuillez entrer 1, 2 ou 0\")\n",
    "\t\ttime_end=float(input(\"Quelle valeur de temps final désirez-vous? (en secondes)\"))\n",
    "\t\tmode=int(input(\"Voulez-vous afficher toutes les valeurs pour t=0 jusqu'au temps final? (1 pour toutes les valeurs, 2 pour uniquement le temps final, 0 pour quitter)\"))\n",
    "\tprint(\"Au revoir!\")\n",
    "\texit()"
   ]
  },
  {
   "cell_type": "markdown",
   "metadata": {
    "collapsed": true
   },
   "source": [
    "Nous avons utilisé le programme pour répondre aux questions de fin de module, et toutes les réponses obtenues ont été vérifiées sur le site du MOOC. On peut donc considérer que ces résultats, qui ne sont finalement que des approximations obtenues grâce à la méthode d'Euler, sont cohérents. <br>\n",
    "Physiquement, on peut également constater que la hauteur maximale est bien atteinte quand la vitesse tombe à 0 m/s, juste avant le changement de signe de cette dernière qui provoque une baisse de la hauteur. <br>\n",
    "La vitesse maximale est quant à elle maximale au moment où tout le carburant a été consommé, ce qui parait également logique. <br>"
   ]
  },
  {
   "cell_type": "code",
   "execution_count": null,
   "metadata": {
    "collapsed": true
   },
   "outputs": [],
   "source": []
  }
 ],
 "metadata": {
  "anaconda-cloud": {},
  "kernelspec": {
   "display_name": "Python [default]",
   "language": "python",
   "name": "python3"
  },
  "language_info": {
   "codemirror_mode": {
    "name": "ipython",
    "version": 3
   },
   "file_extension": ".py",
   "mimetype": "text/x-python",
   "name": "python",
   "nbconvert_exporter": "python",
   "pygments_lexer": "ipython3",
   "version": "3.5.2"
  }
 },
 "nbformat": 4,
 "nbformat_minor": 1
}
